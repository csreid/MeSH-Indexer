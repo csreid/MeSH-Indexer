{
 "cells": [
  {
   "cell_type": "code",
   "execution_count": 43,
   "metadata": {},
   "outputs": [],
   "source": [
    "import matplotlib.pyplot as plt\n",
    "from loaddata import loadtrain\n",
    "from sklearn.base import clone\n",
    "from sklearn.metrics import f1_score\n",
    "from oob import gen_oob\n",
    "import numpy as np\n",
    "from ipywidgets import interact, interactive, fixed, interact_manual\n",
    "from sklearn.model_selection import cross_val_score, train_test_split\n",
    "from sklearn.svm import LinearSVC\n",
    "import ipywidgets as widgets\n",
    "from scipy import sparse\n",
    "from IPython.display import display, clear_output\n",
    "from sklearn.preprocessing import StandardScaler, Normalizer\n",
    "from sklearn.feature_extraction.text import TfidfTransformer\n",
    "\n",
    "X, y = loadtrain()"
   ]
  },
  {
   "cell_type": "markdown",
   "metadata": {},
   "source": [
    "# What Didn't Work\n",
    "\n",
    "## OTS GBTrees\n",
    "\n",
    "* XGBoost was too slow\n",
    "\n",
    "* LGBM was slow and surprisingly bad"
   ]
  },
  {
   "cell_type": "markdown",
   "metadata": {},
   "source": [
    "## Deep Learning\n",
    "\n",
    "... no matter how much compute I dumped on it\n",
    "\n",
    "![netgraph]\n",
    "\n",
    "[netgraph]: ./model.png"
   ]
  },
  {
   "cell_type": "markdown",
   "metadata": {},
   "source": [
    "## Too-clever Ensembling\n",
    "\n",
    "* Soft-margin SVM with randomized feature subselect\n",
    "* XGBoost/LGBM with wide forests and highly randomized training\n",
    "\n",
    "* All too slow and not good"
   ]
  },
  {
   "cell_type": "markdown",
   "metadata": {},
   "source": [
    "# What Did Work (At Least A Little)\n",
    "\n",
    "## Linear SVM\n",
    "\n",
    "Base model is linear SVM w/ C=1"
   ]
  },
  {
   "cell_type": "markdown",
   "metadata": {},
   "source": [
    "## Simple Data Transformation\n",
    "\n",
    "* Tf-Idf\n",
    "* Scaling\n",
    "\n",
    "Better results, also faster training"
   ]
  },
  {
   "cell_type": "code",
   "execution_count": 44,
   "metadata": {},
   "outputs": [],
   "source": [
    "X = TfidfTransformer(norm=None).fit_transform(X)\n",
    "X = Normalizer().fit_transform(X)"
   ]
  },
  {
   "cell_type": "markdown",
   "metadata": {},
   "source": [
    "## Data Augmentation\n",
    "\n",
    "Some rare labels, so generate more\n",
    "\n",
    "### Generative Model\n",
    "\n",
    "$\\textbf{x} \\sim \\text{Multinomial}(n, \\bf{\\mu})$\n",
    "\n",
    "$n \\sim \\text{Gaussian}(\\mu_{words \\mid label}, \\sigma_{words \\mid label})$"
   ]
  },
  {
   "cell_type": "code",
   "execution_count": 45,
   "metadata": {},
   "outputs": [
    {
     "data": {
      "application/vnd.jupyter.widget-view+json": {
       "model_id": "df0da7900fde472995e99a324b38c58c",
       "version_major": 2,
       "version_minor": 0
      },
      "text/html": [
       "<p>Failed to display Jupyter Widget of type <code>interactive</code>.</p>\n",
       "<p>\n",
       "  If you're reading this message in the Jupyter Notebook or JupyterLab Notebook, it may mean\n",
       "  that the widgets JavaScript is still loading. If this message persists, it\n",
       "  likely means that the widgets JavaScript library is either not installed or\n",
       "  not enabled. See the <a href=\"https://ipywidgets.readthedocs.io/en/stable/user_install.html\">Jupyter\n",
       "  Widgets Documentation</a> for setup instructions.\n",
       "</p>\n",
       "<p>\n",
       "  If you're reading this message in another frontend (for example, a static\n",
       "  rendering on GitHub or <a href=\"https://nbviewer.jupyter.org/\">NBViewer</a>),\n",
       "  it may mean that your frontend doesn't currently support widgets.\n",
       "</p>\n"
      ],
      "text/plain": [
       "interactive(children=(BoundedIntText(value=22, description='Label:', max=126), Button(description='Run Interact', style=ButtonStyle()), Output()), _dom_classes=('widget-interact',))"
      ]
     },
     "metadata": {},
     "output_type": "display_data"
    }
   ],
   "source": [
    "m = LinearSVC(C=1)\n",
    "\n",
    "@interact_manual(label=widgets.BoundedIntText(value=22,min=0,max=y.shape[1],step=1,description='Label:'))\n",
    "def drawcomparison(label):\n",
    "    label = int(label)\n",
    "    ydata = y[:, label]\n",
    "    fig = plt.figure(figsize=(10, 8))\n",
    "\n",
    "    original = plt.subplot(311)\n",
    "    aug = plt.subplot(312)\n",
    "    diff = plt.subplot(313)\n",
    "    n_aug = 2000\n",
    "\n",
    "    newdata = gen_oob(X, y, label, n_aug)\n",
    "\n",
    "    Xdata = np.asarray(np.mean(X[y[:, label] == 1], axis=0)).reshape(-1)\n",
    "    augdata = np.asarray(np.mean(newdata, axis=0)).reshape(-1)\n",
    "\n",
    "    original.plot(Xdata)\n",
    "    original.set_title('Histogram of Original Feature Frequencies')\n",
    "    original.set_xlabel('Feature')\n",
    "    original.set_ylabel('Frequency')\n",
    "    \n",
    "    aug.plot(augdata)\n",
    "    aug.set_title('Histogram of Generated Feature Frequencies')\n",
    "    aug.set_xlabel('Feature')\n",
    "    aug.set_ylabel('Frequency')\n",
    "\n",
    "    \n",
    "    diff.plot(Xdata - augdata)\n",
    "    diff.set_title('Difference')\n",
    "    diff.set_ylim([-np.max(Xdata), np.max(Xdata)])\n",
    "    diff.set_xlabel('Feature')\n",
    "    diff.set_ylabel('Original - Augmented')\n",
    "\n",
    "    \n",
    "    plt.tight_layout()\n",
    "    plt.show()"
   ]
  },
  {
   "cell_type": "markdown",
   "metadata": {},
   "source": [
    "### Results: Marginal Improvement\n",
    "\n",
    "* But not always, and not for all labels.\n",
    "* CV with sparse labels is hard because the training data has a lot of randomness"
   ]
  },
  {
   "cell_type": "code",
   "execution_count": 46,
   "metadata": {},
   "outputs": [
    {
     "data": {
      "application/vnd.jupyter.widget-view+json": {
       "model_id": "4173afc42d11490dbcecb98b6b4b2c01",
       "version_major": 2,
       "version_minor": 0
      },
      "text/html": [
       "<p>Failed to display Jupyter Widget of type <code>interactive</code>.</p>\n",
       "<p>\n",
       "  If you're reading this message in the Jupyter Notebook or JupyterLab Notebook, it may mean\n",
       "  that the widgets JavaScript is still loading. If this message persists, it\n",
       "  likely means that the widgets JavaScript library is either not installed or\n",
       "  not enabled. See the <a href=\"https://ipywidgets.readthedocs.io/en/stable/user_install.html\">Jupyter\n",
       "  Widgets Documentation</a> for setup instructions.\n",
       "</p>\n",
       "<p>\n",
       "  If you're reading this message in another frontend (for example, a static\n",
       "  rendering on GitHub or <a href=\"https://nbviewer.jupyter.org/\">NBViewer</a>),\n",
       "  it may mean that your frontend doesn't currently support widgets.\n",
       "</p>\n"
      ],
      "text/plain": [
       "interactive(children=(BoundedIntText(value=22, description='Label:', max=126), Button(description='Run Interact', style=ButtonStyle()), Output()), _dom_classes=('widget-interact',))"
      ]
     },
     "metadata": {},
     "output_type": "display_data"
    }
   ],
   "source": [
    "@interact_manual(label=widgets.BoundedIntText(value=22,min=0,max=y.shape[1],step=1,description='Label:'))\n",
    "def beforeafter(label):\n",
    "    display('Generating data for {}'.format(label))\n",
    "    clear_output(wait=True)\n",
    "    label = int(label)\n",
    "    n_aug = 2000\n",
    "    X_train, X_test, y_train, y_test = train_test_split(X, y)\n",
    "    newtrain = gen_oob(X_train, y_train, label, n_aug)\n",
    "\n",
    "    display('Stacking')\n",
    "    clear_output(wait=True)\n",
    "    Xafter = sparse.vstack([X_train, newtrain])\n",
    "    yafter = np.hstack([y_train[:, label], np.ones(n_aug)])    \n",
    "    \n",
    "    beforemodel = clone(m)\n",
    "    aftermodel = clone(m)\n",
    "    \n",
    "    display('Fitting benchmarks...'.format(label))\n",
    "    clear_output(wait=True)\n",
    "\n",
    "    beforemodel.fit(X_train, y_train[:, label] == 1)\n",
    "    aftermodel.fit(Xafter, yafter)\n",
    "    \n",
    "    bp = beforemodel.predict(X_test)\n",
    "    ap = aftermodel.predict(X_test)\n",
    "    \n",
    "    bf1 = f1_score(y_test[:, label] == 1, bp)\n",
    "    af1 = f1_score(y_test[:, label] == 1, ap)\n",
    "    \n",
    "    print('CV F1 before augmenting:\\t{}'.format(bf1))\n",
    "    print('CV F1 after augmenting:\\t{}'.format(af1))"
   ]
  },
  {
   "cell_type": "markdown",
   "metadata": {},
   "source": [
    "## Label Modeling\n",
    "\n",
    "* Biggest lift I got\n",
    "* Train a model to capture feature -> label association, and another to capture label -> label association"
   ]
  },
  {
   "cell_type": "markdown",
   "metadata": {},
   "source": [
    "# Things That Will Probably Work, But Haven't Yet\n",
    "\n",
    "## Heirarchical Classification/Subsets\n",
    "\n",
    "* Data is heirarchical, so take advantage of that\n",
    "* Some improvement in F1 for some labels, but slightly depresses macro F1\n",
    "* Future Work:\n",
    "    * Softer grouping\n",
    "    * Actual math"
   ]
  }
 ],
 "metadata": {
  "kernelspec": {
   "display_name": "Python 3",
   "language": "python",
   "name": "python3"
  },
  "language_info": {
   "codemirror_mode": {
    "name": "ipython",
    "version": 3
   },
   "file_extension": ".py",
   "mimetype": "text/x-python",
   "name": "python",
   "nbconvert_exporter": "python",
   "pygments_lexer": "ipython3",
   "version": "3.6.7"
  }
 },
 "nbformat": 4,
 "nbformat_minor": 2
}
